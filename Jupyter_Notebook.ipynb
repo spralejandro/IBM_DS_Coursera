{
 "cells": [
  {
   "cell_type": "markdown",
   "metadata": {},
   "source": [
    "# My Jupyter Notebook on IBM Watson Studio"
   ]
  },
  {
   "cell_type": "markdown",
   "metadata": {},
   "source": [
    "**Saucedo Pescador Ricardo Alejandro**\n",
    "\n",
    "B.Sc. Student"
   ]
  },
  {
   "cell_type": "markdown",
   "metadata": {},
   "source": [
    "*I'm interested in data science because is one of the most popular and rewarding careers there is.*\n",
    "\n",
    "*I also like programming and mathematics very much and data science combines these areas very well.*\n",
    "\n",
    "*Finally, I am trying to apply for professional positions where they are looking for a data scientist profile, so I am interested in specializing in this area to fit perfectly in these opportunities.*"
   ]
  },
  {
   "cell_type": "markdown",
   "metadata": {},
   "source": [
    "### This code is designed to print the Fibonacci sequence up to a position given by the user."
   ]
  },
  {
   "cell_type": "code",
   "execution_count": 45,
   "metadata": {},
   "outputs": [
    {
     "name": "stdout",
     "output_type": "stream",
     "text": [
      "1\n",
      "1\n",
      "2\n",
      "3\n",
      "5\n"
     ]
    }
   ],
   "source": [
    "def fibonacci(n):\n",
    "    if n > 0:\n",
    "        n = int(a)\n",
    "        for i in list(range(1, n+1)):\n",
    "            fibo = int(((1.618034**i) - (1-1.618034)**i) / 2.2360679775)\n",
    "            print(fibo)\n",
    "    else:\n",
    "        print(\"The argument of the function must be a positive integer.\")\n",
    "\n",
    "\n",
    "fibonacci(5)"
   ]
  },
  {
   "cell_type": "markdown",
   "metadata": {},
   "source": [
    "* This\n",
    "* Is\n",
    "* A\n",
    "* Bulleted\n",
    "* List\n",
    "\n",
    "\n",
    "This is an image:\n",
    "<center>\n",
    "    <img src=\"https://datademia.es/wp-content/uploads/2019/06/hello_world-1024x512.png\" width=\"500\"  />\n",
    "</center>\n",
    "\n",
    "\n",
    "[This his an hyperlink](https://www.google.com \"Google's Homepage\")"
   ]
  }
 ],
 "metadata": {
  "kernelspec": {
   "display_name": "Python",
   "language": "python",
   "name": "conda-env-python-py"
  },
  "language_info": {
   "codemirror_mode": {
    "name": "ipython",
    "version": 3
   },
   "file_extension": ".py",
   "mimetype": "text/x-python",
   "name": "python",
   "nbconvert_exporter": "python",
   "pygments_lexer": "ipython3",
   "version": "3.7.12"
  }
 },
 "nbformat": 4,
 "nbformat_minor": 4
}
